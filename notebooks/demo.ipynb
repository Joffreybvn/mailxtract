{
 "cells": [
  {
   "cell_type": "markdown",
   "source": [
    "## Imports"
   ],
   "metadata": {
    "collapsed": false,
    "pycharm": {
     "name": "#%% md\n"
    }
   }
  },
  {
   "cell_type": "code",
   "execution_count": 263,
   "metadata": {
    "collapsed": true,
    "pycharm": {
     "name": "#%%\n"
    }
   },
   "outputs": [],
   "source": [
    "import email\n",
    "import quopri\n",
    "import unicodedata\n",
    "import functools\n",
    "from email.message import Message\n",
    "from typing import Optional, List, Dict, Callable, Any, Union\n",
    "import lxml.html\n",
    "from lxml.html import HtmlElement\n",
    "from pygrok import Grok\n",
    "import pandas as pd"
   ]
  },
  {
   "cell_type": "code",
   "execution_count": 194,
   "outputs": [],
   "source": [
    "raw_email_file = \"./bp2p1gint3o7nnnr7k7m3tnoitr3ah0v7tgf1jg1\""
   ],
   "metadata": {
    "collapsed": false,
    "pycharm": {
     "name": "#%%\n"
    }
   }
  },
  {
   "cell_type": "markdown",
   "source": [
    "## Extraction"
   ],
   "metadata": {
    "collapsed": false,
    "pycharm": {
     "name": "#%% md\n"
    }
   }
  },
  {
   "cell_type": "markdown",
   "source": [
    "### Open email"
   ],
   "metadata": {
    "collapsed": false,
    "pycharm": {
     "name": "#%% md\n"
    }
   }
  },
  {
   "cell_type": "code",
   "execution_count": 195,
   "outputs": [],
   "source": [
    "with open(raw_email_file, mode='rb') as file:\n",
    "    raw_email: bytes = file.read()"
   ],
   "metadata": {
    "collapsed": false,
    "pycharm": {
     "name": "#%%\n"
    }
   }
  },
  {
   "cell_type": "code",
   "execution_count": 196,
   "outputs": [],
   "source": [
    "message: Message = email.message_from_string(raw_email.decode('utf-8'))"
   ],
   "metadata": {
    "collapsed": false,
    "pycharm": {
     "name": "#%%\n"
    }
   }
  },
  {
   "cell_type": "markdown",
   "source": [
    "### Read headers"
   ],
   "metadata": {
    "collapsed": false,
    "pycharm": {
     "name": "#%% md\n"
    }
   }
  },
  {
   "cell_type": "code",
   "execution_count": 197,
   "outputs": [],
   "source": [
    "sender: str = message['from']\n",
    "date: str = message['date']"
   ],
   "metadata": {
    "collapsed": false,
    "pycharm": {
     "name": "#%%\n"
    }
   }
  },
  {
   "cell_type": "code",
   "execution_count": 198,
   "outputs": [
    {
     "name": "stdout",
     "output_type": "stream",
     "text": [
      "Joffrey Bienvenu <joffreybvn@gmail.com>\n",
      "Wed, 6 Apr 2022 13:08:43 +0200\n"
     ]
    }
   ],
   "source": [
    "print(sender)\n",
    "print(date)"
   ],
   "metadata": {
    "collapsed": false,
    "pycharm": {
     "name": "#%%\n"
    }
   }
  },
  {
   "cell_type": "markdown",
   "source": [
    "### Get HTML email"
   ],
   "metadata": {
    "collapsed": false,
    "pycharm": {
     "name": "#%% md\n"
    }
   }
  },
  {
   "cell_type": "markdown",
   "source": [
    "Process: Raw to raw"
   ],
   "metadata": {
    "collapsed": false,
    "pycharm": {
     "name": "#%% md\n"
    }
   }
  },
  {
   "cell_type": "code",
   "execution_count": 199,
   "outputs": [],
   "source": [
    "def decode_email(html_email: str) -> str:\n",
    "    \"\"\"Decode an HTML email into its usable form for a web browser.\"\"\"\n",
    "    utf8_string: str = quopri.decodestring(html_email).decode(\"utf-8\")  # Decode quoted-printable\n",
    "    uni_decoded: str = unicodedata.normalize(\"NFKD\", utf8_string)  # Decode unicode strings\n",
    "    ascii_removed: str = uni_decoded.encode('ascii', 'ignore').decode('utf-8') # Remove ASCII characters\n",
    "    no_break: str = ascii_removed.splitlines()[0]  # Remove line breaks\n",
    "    return no_break"
   ],
   "metadata": {
    "collapsed": false,
    "pycharm": {
     "name": "#%%\n"
    }
   }
  },
  {
   "cell_type": "code",
   "execution_count": 200,
   "outputs": [],
   "source": [
    "html_email: Optional[str] = None\n",
    "\n",
    "# Get the HTML part of the email\n",
    "for part in message.walk():\n",
    "    if part.get_content_type() == 'text/html':\n",
    "        html_email = decode_email(part.get_payload())"
   ],
   "metadata": {
    "collapsed": false,
    "pycharm": {
     "name": "#%%\n"
    }
   }
  },
  {
   "cell_type": "code",
   "execution_count": 201,
   "outputs": [],
   "source": [
    "with open(\"Output.html\", \"w\") as text_file:\n",
    "    text_file.write(html_email)"
   ],
   "metadata": {
    "collapsed": false,
    "pycharm": {
     "name": "#%%\n"
    }
   }
  },
  {
   "cell_type": "markdown",
   "source": [
    "### Get email data"
   ],
   "metadata": {
    "collapsed": false,
    "pycharm": {
     "name": "#%% md\n"
    }
   }
  },
  {
   "cell_type": "code",
   "execution_count": 202,
   "outputs": [],
   "source": [
    "document = lxml.html.fromstring(html_email)"
   ],
   "metadata": {
    "collapsed": false,
    "pycharm": {
     "name": "#%%\n"
    }
   }
  },
  {
   "cell_type": "code",
   "execution_count": 203,
   "outputs": [
    {
     "data": {
      "text/plain": "<Element div at 0x11d9226b0>"
     },
     "execution_count": 203,
     "metadata": {},
     "output_type": "execute_result"
    }
   ],
   "source": [
    "document"
   ],
   "metadata": {
    "collapsed": false,
    "pycharm": {
     "name": "#%%\n"
    }
   }
  },
  {
   "cell_type": "code",
   "execution_count": 204,
   "outputs": [],
   "source": [
    "# @dataclass\n",
    "# class Job:\n",
    "#     position_category: str\n",
    "#     position_name: str\n",
    "#     company_name: str\n",
    "#     company_logo: Optional[str] = None\n",
    "#     company_city: Optional[str] = None\n",
    "#     company_region: Optional[str] = None\n",
    "#     company_country: Optional[str] = None\n",
    "#     remote_working_policy: Optional[str] = None"
   ],
   "metadata": {
    "collapsed": false,
    "pycharm": {
     "name": "#%%\n"
    }
   }
  },
  {
   "cell_type": "code",
   "execution_count": 340,
   "outputs": [],
   "source": [
    "from abc import ABC, abstractmethod\n",
    "\n",
    "class HTMLExtractor(ABC):\n",
    "\n",
    "    def __init__(self, document: str):\n",
    "        self._document: HtmlElement = lxml.html.fromstring(document)\n",
    "        self._data = dict()\n",
    "\n",
    "    def _return_field(self, *args, **kwargs) -> Optional[Any]:\n",
    "        \"\"\"Return the field from the _data dictionnry of this class. Work with the 'field' decorator.\"\"\"\n",
    "        return self._data[args[0]]\n",
    "\n",
    "    def get_xpath(self, xpath: str) -> Optional[str]:\n",
    "        try:\n",
    "            return self._document.xpath(xpath)[0]\n",
    "        except IndexError as error:\n",
    "            return None\n",
    "\n",
    "    @abstractmethod\n",
    "    def as_dict(self, fields: List[str]) -> Dict[str, Optional[str]]:\n",
    "        return {field: self.__getattribute__(field) for field in fields}\n",
    "\n",
    "def field(\n",
    "        missing_func: Optional[str] = None,\n",
    "        args: Optional[dict] = None\n",
    "):\n",
    "    # Assign empty dict as default options\n",
    "    options = args\n",
    "    if options is None:\n",
    "        options: dict = {}\n",
    "\n",
    "    def inner(func):\n",
    "        @functools.wraps(func)\n",
    "        def wrapper(self: Union[HTMLExtractor, 'Job'], *args, **kwargs):\n",
    "            # Get the field name from the function name\n",
    "            field_name: str = func.__name__\n",
    "\n",
    "            # If the data is missing, set it to None by default\n",
    "            if field_name not in self._data:\n",
    "                field_value = None\n",
    "\n",
    "                # Run the custom function to retrieve data\n",
    "                if missing_func:\n",
    "                    missing_function: Callable = self.__getattribute__(missing_func)\n",
    "                    field_value: Any = missing_function(**options)\n",
    "\n",
    "                # Fill the missing field\n",
    "                if isinstance(field_value, dict):\n",
    "                    self._data |= field_value\n",
    "                else:\n",
    "                    self._data[field_name] = field_value\n",
    "\n",
    "            # Run the code normally\n",
    "            return func(self, field_name, *args, **kwargs)\n",
    "\n",
    "        return wrapper\n",
    "    return inner\n",
    "\n",
    "\n",
    "class Job(HTMLExtractor):\n",
    "\n",
    "    def __init__(self, html_element: HtmlElement, position_category: str):\n",
    "        super().__init__(html_element)\n",
    "        self._data['position_category'] = position_category\n",
    "\n",
    "    def extract_description(self) -> dict:\n",
    "\n",
    "        # Setup default values\n",
    "        fields = ['company_city', 'company_region', 'company_country', 'remote_working_policy']\n",
    "        default_values: Dict[str, None] = {key:None for key in fields}\n",
    "\n",
    "        # Extract the description minus the company name\n",
    "        description: str = self.get_xpath(xpath='.//p/text()')\n",
    "        description = description.replace(self._data['company_name'], '')\n",
    "\n",
    "        # Parse the city, region, country and remote working policy\n",
    "        pattern = '%{DATA:company_city}, %{DATA:company_region}, %{WORD:company_country} \\(%{DATA:remote_working_policy}\\)'\n",
    "        data: dict = Grok(pattern).match(description)\n",
    "\n",
    "        return data or default_values\n",
    "\n",
    "    @property\n",
    "    @field()\n",
    "    def position_category(self, *args, **kwargs) -> str:\n",
    "        return self._return_field(*args, **kwargs)\n",
    "\n",
    "    @property\n",
    "    @field(missing_func='get_xpath', args={'xpath': './/td[@style=\"padding-bottom:4px\"]/a/text()'})\n",
    "    def position_name(self, *args, **kwargs) -> Optional[str]:\n",
    "        return self._return_field(*args, **kwargs)\n",
    "\n",
    "    @property\n",
    "    @field(missing_func='get_xpath', args={'xpath': './/img[@width=\"48\"]/@alt'})\n",
    "    def company_name(self, *args, **kwargs) -> Optional[str]:\n",
    "        return self._return_field(*args, **kwargs)\n",
    "\n",
    "    @property\n",
    "    @field(missing_func='get_xpath', args={'xpath': './/img[@width=\"48\"]/@src'})\n",
    "    def company_logo(self, *args, **kwargs) -> Optional[str]:\n",
    "        return self._return_field(*args, **kwargs)\n",
    "\n",
    "    @property\n",
    "    @field(missing_func='extract_description')\n",
    "    def company_city(self, *args, **kwargs) -> Optional[str]:\n",
    "        return self._return_field(*args, **kwargs)\n",
    "\n",
    "    @property\n",
    "    @field(missing_func='extract_description')\n",
    "    def company_region(self, *args, **kwargs) -> Optional[str]:\n",
    "        return self._return_field(*args, **kwargs)\n",
    "\n",
    "    @property\n",
    "    @field(missing_func='extract_description')\n",
    "    def company_country(self, *args, **kwargs) -> Optional[str]:\n",
    "        return self._return_field(*args, **kwargs)\n",
    "\n",
    "    @property\n",
    "    @field(missing_func='extract_description')\n",
    "    def remote_working_policy(self, *args, **kwargs) -> Optional[str]:\n",
    "        return self._return_field(*args, **kwargs)\n",
    "\n",
    "    def as_dict(self, **kwargs) -> Dict[str, Optional[str]]:\n",
    "        return super().as_dict([\n",
    "            \"position_category\",\n",
    "            \"position_name\",\n",
    "            \"company_name\",\n",
    "            \"company_logo\",\n",
    "            \"company_city\",\n",
    "            \"company_region\",\n",
    "            \"company_country\",\n",
    "            \"remote_working_policy\"\n",
    "        ])"
   ],
   "metadata": {
    "collapsed": false,
    "pycharm": {
     "name": "#%%\n"
    }
   }
  },
  {
   "cell_type": "code",
   "execution_count": 341,
   "outputs": [],
   "source": [
    "position: str = document.xpath('//h2/a/span/text()')[0]"
   ],
   "metadata": {
    "collapsed": false,
    "pycharm": {
     "name": "#%%\n"
    }
   }
  },
  {
   "cell_type": "code",
   "execution_count": 342,
   "outputs": [
    {
     "ename": "TypeError",
     "evalue": "Can't instantiate abstract class Job with abstract method as_dict",
     "output_type": "error",
     "traceback": [
      "\u001B[0;31m---------------------------------------------------------------------------\u001B[0m",
      "\u001B[0;31mTypeError\u001B[0m                                 Traceback (most recent call last)",
      "Input \u001B[0;32mIn [342]\u001B[0m, in \u001B[0;36m<cell line: 4>\u001B[0;34m()\u001B[0m\n\u001B[1;32m      2\u001B[0m raw_jobs: List[HtmlElement] \u001B[38;5;241m=\u001B[39m document\u001B[38;5;241m.\u001B[39mxpath(\u001B[38;5;124m'\u001B[39m\u001B[38;5;124m//table[@style=\u001B[39m\u001B[38;5;124m\"\u001B[39m\u001B[38;5;124mpadding:10px 24px\u001B[39m\u001B[38;5;124m\"\u001B[39m\u001B[38;5;124m]\u001B[39m\u001B[38;5;124m'\u001B[39m)\n\u001B[1;32m      4\u001B[0m \u001B[38;5;28;01mfor\u001B[39;00m raw_job \u001B[38;5;129;01min\u001B[39;00m raw_jobs:\n\u001B[0;32m----> 5\u001B[0m     jobs\u001B[38;5;241m.\u001B[39mappend(\u001B[43mJob\u001B[49m\u001B[43m(\u001B[49m\n\u001B[1;32m      6\u001B[0m \u001B[43m        \u001B[49m\u001B[43mhtml_element\u001B[49m\u001B[38;5;241;43m=\u001B[39;49m\u001B[43mraw_job\u001B[49m\u001B[43m,\u001B[49m\n\u001B[1;32m      7\u001B[0m \u001B[43m        \u001B[49m\u001B[43mposition_category\u001B[49m\u001B[38;5;241;43m=\u001B[39;49m\u001B[43mposition\u001B[49m\n\u001B[1;32m      8\u001B[0m \u001B[43m    \u001B[49m\u001B[43m)\u001B[49m)\n",
      "\u001B[0;31mTypeError\u001B[0m: Can't instantiate abstract class Job with abstract method as_dict"
     ]
    }
   ],
   "source": [
    "jobs: List[Job] = list()\n",
    "raw_jobs: List[HtmlElement] = document.xpath('//table[@style=\"padding:10px 24px\"]')\n",
    "\n",
    "for raw_job in raw_jobs:\n",
    "    jobs.append(Job(\n",
    "        html_element=raw_job,\n",
    "        position_category=position\n",
    "    ))"
   ],
   "metadata": {
    "collapsed": false,
    "pycharm": {
     "name": "#%%\n"
    }
   }
  },
  {
   "cell_type": "code",
   "execution_count": 338,
   "outputs": [],
   "source": [
    "df = pd.DataFrame([job.as_dict() for job in jobs])"
   ],
   "metadata": {
    "collapsed": false,
    "pycharm": {
     "name": "#%%\n"
    }
   }
  },
  {
   "cell_type": "code",
   "execution_count": 339,
   "outputs": [
    {
     "data": {
      "text/plain": "  position_category                          position_name  \\\n0     Data Engineer                          Data Engineer   \n1     Data Engineer                          Data Engineer   \n2     Data Engineer          MES & Data Historian Engineer   \n3     Data Engineer                          Data Engineer   \n4     Data Engineer             Senior (Big) Data Engineer   \n5     Data Engineer  Data Warehouse Engineer and BI Expert   \n\n                   company_name  \\\n0                       Bricsys   \n1              Apollo Solutions   \n2  Process Automation Solutions   \n3                 Ossia Belgium   \n4                Ordina Belgium   \n5                       Exellys   \n\n                                        company_logo company_city  \\\n0  https://media-exp1.licdn.com/dms/image/C4E0BAQ...         Gand   \n1  https://media-exp1.licdn.com/dms/image/C4E0BAQ...      Laakdal   \n2  https://media-exp1.licdn.com/dms/image/C4E0BAQ...       Anvers   \n3  https://media-exp1.licdn.com/dms/image/C4D0BAQ...         None   \n4  https://media-exp1.licdn.com/dms/image/C4D0BAQ...      Malines   \n5  https://media-exp1.licdn.com/dms/image/C560BAQ...      Malines   \n\n    company_region company_country remote_working_policy  \n0  Region flamande        Belgique               Hybride  \n1  Region flamande        Belgique               Hybride  \n2  Region flamande        Belgique              Sur site  \n3             None            None                  None  \n4  Region flamande        Belgique              Sur site  \n5  Region flamande        Belgique              Sur site  ",
      "text/html": "<div>\n<style scoped>\n    .dataframe tbody tr th:only-of-type {\n        vertical-align: middle;\n    }\n\n    .dataframe tbody tr th {\n        vertical-align: top;\n    }\n\n    .dataframe thead th {\n        text-align: right;\n    }\n</style>\n<table border=\"1\" class=\"dataframe\">\n  <thead>\n    <tr style=\"text-align: right;\">\n      <th></th>\n      <th>position_category</th>\n      <th>position_name</th>\n      <th>company_name</th>\n      <th>company_logo</th>\n      <th>company_city</th>\n      <th>company_region</th>\n      <th>company_country</th>\n      <th>remote_working_policy</th>\n    </tr>\n  </thead>\n  <tbody>\n    <tr>\n      <th>0</th>\n      <td>Data Engineer</td>\n      <td>Data Engineer</td>\n      <td>Bricsys</td>\n      <td>https://media-exp1.licdn.com/dms/image/C4E0BAQ...</td>\n      <td>Gand</td>\n      <td>Region flamande</td>\n      <td>Belgique</td>\n      <td>Hybride</td>\n    </tr>\n    <tr>\n      <th>1</th>\n      <td>Data Engineer</td>\n      <td>Data Engineer</td>\n      <td>Apollo Solutions</td>\n      <td>https://media-exp1.licdn.com/dms/image/C4E0BAQ...</td>\n      <td>Laakdal</td>\n      <td>Region flamande</td>\n      <td>Belgique</td>\n      <td>Hybride</td>\n    </tr>\n    <tr>\n      <th>2</th>\n      <td>Data Engineer</td>\n      <td>MES &amp; Data Historian Engineer</td>\n      <td>Process Automation Solutions</td>\n      <td>https://media-exp1.licdn.com/dms/image/C4E0BAQ...</td>\n      <td>Anvers</td>\n      <td>Region flamande</td>\n      <td>Belgique</td>\n      <td>Sur site</td>\n    </tr>\n    <tr>\n      <th>3</th>\n      <td>Data Engineer</td>\n      <td>Data Engineer</td>\n      <td>Ossia Belgium</td>\n      <td>https://media-exp1.licdn.com/dms/image/C4D0BAQ...</td>\n      <td>None</td>\n      <td>None</td>\n      <td>None</td>\n      <td>None</td>\n    </tr>\n    <tr>\n      <th>4</th>\n      <td>Data Engineer</td>\n      <td>Senior (Big) Data Engineer</td>\n      <td>Ordina Belgium</td>\n      <td>https://media-exp1.licdn.com/dms/image/C4D0BAQ...</td>\n      <td>Malines</td>\n      <td>Region flamande</td>\n      <td>Belgique</td>\n      <td>Sur site</td>\n    </tr>\n    <tr>\n      <th>5</th>\n      <td>Data Engineer</td>\n      <td>Data Warehouse Engineer and BI Expert</td>\n      <td>Exellys</td>\n      <td>https://media-exp1.licdn.com/dms/image/C560BAQ...</td>\n      <td>Malines</td>\n      <td>Region flamande</td>\n      <td>Belgique</td>\n      <td>Sur site</td>\n    </tr>\n  </tbody>\n</table>\n</div>"
     },
     "execution_count": 339,
     "metadata": {},
     "output_type": "execute_result"
    }
   ],
   "source": [
    "df"
   ],
   "metadata": {
    "collapsed": false,
    "pycharm": {
     "name": "#%%\n"
    }
   }
  },
  {
   "cell_type": "code",
   "execution_count": 210,
   "outputs": [],
   "source": [],
   "metadata": {
    "collapsed": false,
    "pycharm": {
     "name": "#%%\n"
    }
   }
  },
  {
   "cell_type": "code",
   "execution_count": null,
   "outputs": [],
   "source": [],
   "metadata": {
    "collapsed": false,
    "pycharm": {
     "name": "#%%\n"
    }
   }
  }
 ],
 "metadata": {
  "kernelspec": {
   "display_name": "Python 3",
   "language": "python",
   "name": "python3"
  },
  "language_info": {
   "codemirror_mode": {
    "name": "ipython",
    "version": 2
   },
   "file_extension": ".py",
   "mimetype": "text/x-python",
   "name": "python",
   "nbconvert_exporter": "python",
   "pygments_lexer": "ipython2",
   "version": "2.7.6"
  }
 },
 "nbformat": 4,
 "nbformat_minor": 0
}