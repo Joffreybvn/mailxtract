{
 "cells": [
  {
   "cell_type": "markdown",
   "source": [
    "## Imports"
   ],
   "metadata": {
    "collapsed": false
   }
  },
  {
   "cell_type": "code",
   "execution_count": 1,
   "metadata": {
    "collapsed": true
   },
   "outputs": [],
   "source": [
    "import email\n",
    "import quopri\n",
    "import unicodedata\n",
    "from email.message import Message\n",
    "from typing import Optional, List, Dict, Union\n",
    "import lxml.html\n",
    "from lxml.html import HtmlElement\n",
    "from pygrok import Grok\n",
    "import pandas as pd"
   ]
  },
  {
   "cell_type": "code",
   "execution_count": 2,
   "outputs": [],
   "source": [
    "raw_email_file = \"./bp2p1gint3o7nnnr7k7m3tnoitr3ah0v7tgf1jg1\""
   ],
   "metadata": {
    "collapsed": false,
    "pycharm": {
     "name": "#%%\n"
    }
   }
  },
  {
   "cell_type": "markdown",
   "source": [
    "## Extraction"
   ],
   "metadata": {
    "collapsed": false
   }
  },
  {
   "cell_type": "markdown",
   "source": [
    "### Open email"
   ],
   "metadata": {
    "collapsed": false
   }
  },
  {
   "cell_type": "code",
   "execution_count": 3,
   "outputs": [],
   "source": [
    "with open(raw_email_file, mode='rb') as file:\n",
    "    raw_email: bytes = file.read()"
   ],
   "metadata": {
    "collapsed": false,
    "pycharm": {
     "name": "#%%\n"
    }
   }
  },
  {
   "cell_type": "code",
   "execution_count": 4,
   "outputs": [],
   "source": [
    "message: Message = email.message_from_string(raw_email.decode('utf-8'))"
   ],
   "metadata": {
    "collapsed": false,
    "pycharm": {
     "name": "#%%\n"
    }
   }
  },
  {
   "cell_type": "markdown",
   "source": [
    "### Read headers"
   ],
   "metadata": {
    "collapsed": false
   }
  },
  {
   "cell_type": "code",
   "execution_count": 5,
   "outputs": [],
   "source": [
    "sender: str = message['from']\n",
    "date: str = message['date']"
   ],
   "metadata": {
    "collapsed": false,
    "pycharm": {
     "name": "#%%\n"
    }
   }
  },
  {
   "cell_type": "code",
   "execution_count": 6,
   "outputs": [
    {
     "name": "stdout",
     "output_type": "stream",
     "text": [
      "Joffrey Bienvenu <joffreybvn@gmail.com>\n",
      "Wed, 6 Apr 2022 13:08:43 +0200\n"
     ]
    }
   ],
   "source": [
    "print(sender)\n",
    "print(date)"
   ],
   "metadata": {
    "collapsed": false,
    "pycharm": {
     "name": "#%%\n"
    }
   }
  },
  {
   "cell_type": "markdown",
   "source": [
    "### Get HTML email"
   ],
   "metadata": {
    "collapsed": false
   }
  },
  {
   "cell_type": "markdown",
   "source": [
    "Process: Raw to raw"
   ],
   "metadata": {
    "collapsed": false
   }
  },
  {
   "cell_type": "code",
   "execution_count": 7,
   "outputs": [],
   "source": [
    "def decode_email(html_email: str) -> str:\n",
    "    \"\"\"Decode an HTML email into its usable form for a web browser.\"\"\"\n",
    "    utf8_string: str = quopri.decodestring(html_email).decode(\"utf-8\")  # Decode quoted-printable\n",
    "    uni_decoded: str = unicodedata.normalize(\"NFKD\", utf8_string)  # Decode unicode strings\n",
    "    ascii_removed: str = uni_decoded.encode('ascii', 'ignore').decode('utf-8') # Remove ASCII characters\n",
    "    no_break: str = ascii_removed.splitlines()[0]  # Remove line breaks\n",
    "    return no_break"
   ],
   "metadata": {
    "collapsed": false,
    "pycharm": {
     "name": "#%%\n"
    }
   }
  },
  {
   "cell_type": "code",
   "execution_count": 8,
   "outputs": [],
   "source": [
    "html_email: Optional[str] = None\n",
    "\n",
    "# Get the HTML part of the email\n",
    "for part in message.walk():\n",
    "    if part.get_content_type() == 'text/html':\n",
    "        html_email = decode_email(part.get_payload())"
   ],
   "metadata": {
    "collapsed": false,
    "pycharm": {
     "name": "#%%\n"
    }
   }
  },
  {
   "cell_type": "code",
   "execution_count": 9,
   "outputs": [],
   "source": [
    "with open(\"Output.html\", \"w\") as text_file:\n",
    "    text_file.write(html_email)"
   ],
   "metadata": {
    "collapsed": false,
    "pycharm": {
     "name": "#%%\n"
    }
   }
  },
  {
   "cell_type": "markdown",
   "source": [
    "### Get email data"
   ],
   "metadata": {
    "collapsed": false
   }
  },
  {
   "cell_type": "code",
   "execution_count": 10,
   "outputs": [],
   "source": [
    "document = lxml.html.fromstring(html_email)"
   ],
   "metadata": {
    "collapsed": false,
    "pycharm": {
     "name": "#%%\n"
    }
   }
  },
  {
   "cell_type": "code",
   "execution_count": 11,
   "outputs": [],
   "source": [
    "from mailxtract.extractors import HTMLExtractor, field\n",
    "\n",
    "\n",
    "class Job(HTMLExtractor):\n",
    "\n",
    "    def __init__(self, html_element: Union[str, HtmlElement], position_category: str):\n",
    "        super().__init__(html_element)\n",
    "        self._data['position_category'] = position_category\n",
    "\n",
    "    def extract_description(self) -> dict:\n",
    "\n",
    "        # Setup default values\n",
    "        fields = ['company_city', 'company_region', 'company_country', 'remote_working_policy']\n",
    "        default_values: Dict[str, None] = {key:None for key in fields}\n",
    "\n",
    "        # Extract the description minus the company name\n",
    "        description: str = self.get_xpath(xpath='.//p/text()')\n",
    "        description = description.replace(self._data['company_name'], '')\n",
    "\n",
    "        # Parse the city, region, country and remote working policy\n",
    "        pattern = '%{DATA:company_city}, %{DATA:company_region}, %{WORD:company_country} \\(%{DATA:remote_working_policy}\\)'\n",
    "        data: dict = Grok(pattern).match(description)\n",
    "\n",
    "        return data or default_values\n",
    "\n",
    "    @field()\n",
    "    def position_category(self, context) -> str:\n",
    "        pass\n",
    "\n",
    "    @field(\n",
    "        missing_func='get_xpath',\n",
    "        args={'xpath': './/td[@style=\"padding-bottom:4px\"]/a/text()'}\n",
    "    )\n",
    "    def position_name(self, context) -> Optional[str]:\n",
    "        pass\n",
    "\n",
    "    @field(\n",
    "        missing_func='get_xpath',\n",
    "        args={'xpath': './/img[@width=\"48\"]/@alt'}\n",
    "    )\n",
    "    def company_name(self, context) -> Optional[str]:\n",
    "        pass\n",
    "\n",
    "    @field(\n",
    "        missing_func='get_xpath',\n",
    "        args={'xpath': './/img[@width=\"48\"]/@src'}\n",
    "    )\n",
    "    def company_logo(self, context) -> Optional[str]:\n",
    "        pass\n",
    "\n",
    "    @field(missing_func='extract_description')\n",
    "    def company_city(self, context) -> Optional[str]:\n",
    "        pass\n",
    "\n",
    "    @field(missing_func='extract_description')\n",
    "    def company_region(self, context) -> Optional[str]:\n",
    "        pass\n",
    "\n",
    "    @field(missing_func='extract_description')\n",
    "    def company_country(self, context) -> Optional[str]:\n",
    "        pass\n",
    "\n",
    "    @field(missing_func='extract_description')\n",
    "    def remote_working_policy(self, context) -> Optional[str]:\n",
    "        pass\n",
    "\n",
    "    def as_dict(self, **kwargs) -> Dict[str, Optional[str]]:\n",
    "        return super().as_dict([\n",
    "            \"position_category\",\n",
    "            \"position_name\",\n",
    "            \"company_name\",\n",
    "            \"company_logo\",\n",
    "            \"company_city\",\n",
    "            \"company_region\",\n",
    "            \"company_country\",\n",
    "            \"remote_working_policy\"\n",
    "        ])"
   ],
   "metadata": {
    "collapsed": false,
    "pycharm": {
     "name": "#%%\n"
    }
   }
  },
  {
   "cell_type": "code",
   "execution_count": 12,
   "outputs": [],
   "source": [
    "position: str = document.xpath('//h2/a/span/text()')[0]"
   ],
   "metadata": {
    "collapsed": false,
    "pycharm": {
     "name": "#%%\n"
    }
   }
  },
  {
   "cell_type": "code",
   "execution_count": 13,
   "outputs": [],
   "source": [
    "jobs: List[Job] = list()\n",
    "raw_jobs: List[HtmlElement] = document.xpath('//table[@style=\"padding:10px 24px\"]')\n",
    "\n",
    "for raw_job in raw_jobs:\n",
    "    jobs.append(Job(\n",
    "        html_element=raw_job,\n",
    "        position_category=position\n",
    "    ))"
   ],
   "metadata": {
    "collapsed": false,
    "pycharm": {
     "name": "#%%\n"
    }
   }
  },
  {
   "cell_type": "code",
   "execution_count": 14,
   "outputs": [],
   "source": [
    "df = pd.DataFrame([job.as_dict() for job in jobs])"
   ],
   "metadata": {
    "collapsed": false,
    "pycharm": {
     "name": "#%%\n"
    }
   }
  },
  {
   "cell_type": "code",
   "execution_count": 15,
   "outputs": [
    {
     "data": {
      "text/plain": "  position_category                          position_name  \\\n0     Data Engineer                          Data Engineer   \n1     Data Engineer                          Data Engineer   \n2     Data Engineer          MES & Data Historian Engineer   \n3     Data Engineer                          Data Engineer   \n4     Data Engineer             Senior (Big) Data Engineer   \n5     Data Engineer  Data Warehouse Engineer and BI Expert   \n\n                   company_name  \\\n0                       Bricsys   \n1              Apollo Solutions   \n2  Process Automation Solutions   \n3                 Ossia Belgium   \n4                Ordina Belgium   \n5                       Exellys   \n\n                                        company_logo company_city  \\\n0  https://media-exp1.licdn.com/dms/image/C4E0BAQ...         Gand   \n1  https://media-exp1.licdn.com/dms/image/C4E0BAQ...      Laakdal   \n2  https://media-exp1.licdn.com/dms/image/C4E0BAQ...       Anvers   \n3  https://media-exp1.licdn.com/dms/image/C4D0BAQ...         None   \n4  https://media-exp1.licdn.com/dms/image/C4D0BAQ...      Malines   \n5  https://media-exp1.licdn.com/dms/image/C560BAQ...      Malines   \n\n    company_region company_country remote_working_policy  \n0  Region flamande        Belgique               Hybride  \n1  Region flamande        Belgique               Hybride  \n2  Region flamande        Belgique              Sur site  \n3             None            None                  None  \n4  Region flamande        Belgique              Sur site  \n5  Region flamande        Belgique              Sur site  ",
      "text/html": "<div>\n<style scoped>\n    .dataframe tbody tr th:only-of-type {\n        vertical-align: middle;\n    }\n\n    .dataframe tbody tr th {\n        vertical-align: top;\n    }\n\n    .dataframe thead th {\n        text-align: right;\n    }\n</style>\n<table border=\"1\" class=\"dataframe\">\n  <thead>\n    <tr style=\"text-align: right;\">\n      <th></th>\n      <th>position_category</th>\n      <th>position_name</th>\n      <th>company_name</th>\n      <th>company_logo</th>\n      <th>company_city</th>\n      <th>company_region</th>\n      <th>company_country</th>\n      <th>remote_working_policy</th>\n    </tr>\n  </thead>\n  <tbody>\n    <tr>\n      <th>0</th>\n      <td>Data Engineer</td>\n      <td>Data Engineer</td>\n      <td>Bricsys</td>\n      <td>https://media-exp1.licdn.com/dms/image/C4E0BAQ...</td>\n      <td>Gand</td>\n      <td>Region flamande</td>\n      <td>Belgique</td>\n      <td>Hybride</td>\n    </tr>\n    <tr>\n      <th>1</th>\n      <td>Data Engineer</td>\n      <td>Data Engineer</td>\n      <td>Apollo Solutions</td>\n      <td>https://media-exp1.licdn.com/dms/image/C4E0BAQ...</td>\n      <td>Laakdal</td>\n      <td>Region flamande</td>\n      <td>Belgique</td>\n      <td>Hybride</td>\n    </tr>\n    <tr>\n      <th>2</th>\n      <td>Data Engineer</td>\n      <td>MES &amp; Data Historian Engineer</td>\n      <td>Process Automation Solutions</td>\n      <td>https://media-exp1.licdn.com/dms/image/C4E0BAQ...</td>\n      <td>Anvers</td>\n      <td>Region flamande</td>\n      <td>Belgique</td>\n      <td>Sur site</td>\n    </tr>\n    <tr>\n      <th>3</th>\n      <td>Data Engineer</td>\n      <td>Data Engineer</td>\n      <td>Ossia Belgium</td>\n      <td>https://media-exp1.licdn.com/dms/image/C4D0BAQ...</td>\n      <td>None</td>\n      <td>None</td>\n      <td>None</td>\n      <td>None</td>\n    </tr>\n    <tr>\n      <th>4</th>\n      <td>Data Engineer</td>\n      <td>Senior (Big) Data Engineer</td>\n      <td>Ordina Belgium</td>\n      <td>https://media-exp1.licdn.com/dms/image/C4D0BAQ...</td>\n      <td>Malines</td>\n      <td>Region flamande</td>\n      <td>Belgique</td>\n      <td>Sur site</td>\n    </tr>\n    <tr>\n      <th>5</th>\n      <td>Data Engineer</td>\n      <td>Data Warehouse Engineer and BI Expert</td>\n      <td>Exellys</td>\n      <td>https://media-exp1.licdn.com/dms/image/C560BAQ...</td>\n      <td>Malines</td>\n      <td>Region flamande</td>\n      <td>Belgique</td>\n      <td>Sur site</td>\n    </tr>\n  </tbody>\n</table>\n</div>"
     },
     "execution_count": 15,
     "metadata": {},
     "output_type": "execute_result"
    }
   ],
   "source": [
    "df"
   ],
   "metadata": {
    "collapsed": false,
    "pycharm": {
     "name": "#%%\n"
    }
   }
  },
  {
   "cell_type": "code",
   "execution_count": 210,
   "outputs": [],
   "source": [],
   "metadata": {
    "collapsed": false,
    "pycharm": {
     "name": "#%%\n"
    }
   }
  },
  {
   "cell_type": "code",
   "execution_count": null,
   "outputs": [],
   "source": [],
   "metadata": {
    "collapsed": false,
    "pycharm": {
     "name": "#%%\n"
    }
   }
  }
 ],
 "metadata": {
  "kernelspec": {
   "display_name": "Python 3",
   "language": "python",
   "name": "python3"
  },
  "language_info": {
   "codemirror_mode": {
    "name": "ipython",
    "version": 2
   },
   "file_extension": ".py",
   "mimetype": "text/x-python",
   "name": "python",
   "nbconvert_exporter": "python",
   "pygments_lexer": "ipython2",
   "version": "2.7.6"
  }
 },
 "nbformat": 4,
 "nbformat_minor": 0
}