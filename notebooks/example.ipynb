{
 "cells": [
  {
   "cell_type": "markdown",
   "source": [
    "## Imports"
   ],
   "metadata": {
    "collapsed": false
   }
  },
  {
   "cell_type": "code",
   "execution_count": 1,
   "metadata": {
    "collapsed": true
   },
   "outputs": [],
   "source": [
    "from typing import Optional, Dict, Union\n",
    "from lxml.html import HtmlElement\n",
    "from pygrok import Grok\n",
    "import pandas as pd\n",
    "\n",
    "from mailxtract.html import LXMLExtractor, field, FieldContext\n",
    "from mailxtract.binary import SESMessage, BinaryExtractor"
   ]
  },
  {
   "cell_type": "code",
   "execution_count": 2,
   "outputs": [],
   "source": [
    "raw_email_file = \"./bp2p1gint3o7nnnr7k7m3tnoitr3ah0v7tgf1jg1\""
   ],
   "metadata": {
    "collapsed": false,
    "pycharm": {
     "name": "#%%\n"
    }
   }
  },
  {
   "cell_type": "markdown",
   "source": [
    "## Extraction"
   ],
   "metadata": {
    "collapsed": false
   }
  },
  {
   "cell_type": "markdown",
   "source": [
    "### Open email"
   ],
   "metadata": {
    "collapsed": false
   }
  },
  {
   "cell_type": "code",
   "execution_count": 3,
   "outputs": [],
   "source": [
    "reader = SESMessage.from_file(raw_email_file)\n",
    "raw_email = BinaryExtractor(reader)"
   ],
   "metadata": {
    "collapsed": false,
    "pycharm": {
     "name": "#%%\n"
    }
   }
  },
  {
   "cell_type": "markdown",
   "source": [
    "### Read headers"
   ],
   "metadata": {
    "collapsed": false
   }
  },
  {
   "cell_type": "code",
   "execution_count": 4,
   "outputs": [],
   "source": [
    "metadata = raw_email.get_header()\n",
    "html_email = raw_email.get_html()"
   ],
   "metadata": {
    "collapsed": false,
    "pycharm": {
     "name": "#%%\n"
    }
   }
  },
  {
   "cell_type": "code",
   "execution_count": 6,
   "outputs": [],
   "source": [
    "with open(\"Output.html\", \"w\") as text_file:\n",
    "    text_file.write(html_email)"
   ],
   "metadata": {
    "collapsed": false,
    "pycharm": {
     "name": "#%%\n"
    }
   }
  },
  {
   "cell_type": "markdown",
   "source": [
    "### Get email data"
   ],
   "metadata": {
    "collapsed": false
   }
  },
  {
   "cell_type": "code",
   "execution_count": 7,
   "outputs": [],
   "source": [
    "class Job(LXMLExtractor):\n",
    "\n",
    "    def __init__(self, html_element: Union[str, HtmlElement], position_category: str):\n",
    "        super().__init__(html_element)\n",
    "        self.data['position_category'] = position_category\n",
    "\n",
    "    def extract_description(self) -> dict:\n",
    "\n",
    "        # Setup default values\n",
    "        fields = ['company_city', 'company_region', 'company_country', 'remote_working_policy']\n",
    "        default_values: Dict[str, None] = {key:None for key in fields}\n",
    "\n",
    "        # Extract the description minus the company name\n",
    "        description: str = self.get_xpath(xpath='.//p/text()', first=True)\n",
    "        description = description.replace(self.company_name(), '')\n",
    "\n",
    "        # Parse the city, region, country and remote working policy\n",
    "        pattern = '%{DATA:company_city}, %{DATA:company_region}, %{WORD:company_country} \\(%{DATA:remote_working_policy}\\)'\n",
    "        data: dict = Grok(pattern).match(description)\n",
    "\n",
    "        return data or default_values\n",
    "\n",
    "    @field()\n",
    "    def position_category(self) -> str:\n",
    "        pass\n",
    "\n",
    "    @field(\n",
    "        missing_func='get_xpath',\n",
    "        args={'xpath': './/td[@style=\"padding-bottom:4px\"]/a/text()', 'first': True}\n",
    "    )\n",
    "    def position_name(self) -> Optional[str]:\n",
    "        pass\n",
    "\n",
    "    @field(\n",
    "        missing_func='get_xpath',\n",
    "        args={'xpath': './/img[@width=\"48\"]/@alt', 'first': True}\n",
    "    )\n",
    "    def company_name(self) -> Optional[str]:\n",
    "        pass\n",
    "\n",
    "    @field(\n",
    "        missing_func='get_xpath',\n",
    "        args={'xpath': './/img[@width=\"48\"]/@src', 'first': True}\n",
    "    )\n",
    "    def company_logo(self) -> Optional[str]:\n",
    "        pass\n",
    "\n",
    "    @field(missing_func='extract_description')\n",
    "    def company_city(self) -> Optional[str]:\n",
    "        pass\n",
    "\n",
    "    @field(missing_func='extract_description')\n",
    "    def company_region(self) -> Optional[str]:\n",
    "        pass\n",
    "\n",
    "    @field(missing_func='extract_description')\n",
    "    def company_country(self) -> Optional[str]:\n",
    "        pass\n",
    "\n",
    "    @field(missing_func='extract_description')\n",
    "    def remote_working_policy(self) -> Optional[str]:\n",
    "        pass"
   ],
   "metadata": {
    "collapsed": false,
    "pycharm": {
     "name": "#%%\n"
    }
   }
  },
  {
   "cell_type": "code",
   "execution_count": 8,
   "outputs": [],
   "source": [
    "class Email(LXMLExtractor):\n",
    "\n",
    "    def __init__(self, html_element: Union[str, HtmlElement]):\n",
    "        super().__init__(html_element)\n",
    "\n",
    "    @field(\n",
    "        missing_func='get_xpath',\n",
    "        args={'xpath': '//h2/a/span/text()', 'first': True}\n",
    "    )\n",
    "    def position(self) -> str:\n",
    "        pass\n",
    "\n",
    "\n",
    "    @field(\n",
    "        missing_func='get_xpath',\n",
    "        args={'xpath': '//table[@style=\"padding:10px 24px\"]'}\n",
    "    )\n",
    "    def jobs(self, context: FieldContext):\n",
    "        for job in self.data[context.name]:\n",
    "            yield Job(\n",
    "                html_element=job,\n",
    "                position_category=self.position()\n",
    "            ).as_dict()"
   ],
   "metadata": {
    "collapsed": false,
    "pycharm": {
     "name": "#%%\n"
    }
   }
  },
  {
   "cell_type": "code",
   "execution_count": 9,
   "outputs": [],
   "source": [
    "email = Email(html_email)"
   ],
   "metadata": {
    "collapsed": false,
    "pycharm": {
     "name": "#%%\n"
    }
   }
  },
  {
   "cell_type": "code",
   "execution_count": 10,
   "outputs": [],
   "source": [
    "df = pd.DataFrame(email.jobs())"
   ],
   "metadata": {
    "collapsed": false,
    "pycharm": {
     "name": "#%%\n"
    }
   }
  },
  {
   "cell_type": "code",
   "execution_count": 11,
   "outputs": [
    {
     "data": {
      "text/plain": "  company_city company_country  \\\n0         Gand        Belgique   \n1      Laakdal        Belgique   \n2       Anvers        Belgique   \n3         None            None   \n4      Malines        Belgique   \n5      Malines        Belgique   \n\n                                        company_logo  \\\n0  https://media-exp1.licdn.com/dms/image/C4E0BAQ...   \n1  https://media-exp1.licdn.com/dms/image/C4E0BAQ...   \n2  https://media-exp1.licdn.com/dms/image/C4E0BAQ...   \n3  https://media-exp1.licdn.com/dms/image/C4D0BAQ...   \n4  https://media-exp1.licdn.com/dms/image/C4D0BAQ...   \n5  https://media-exp1.licdn.com/dms/image/C560BAQ...   \n\n                   company_name   company_region position_category  \\\n0                       Bricsys  Region flamande     Data Engineer   \n1              Apollo Solutions  Region flamande     Data Engineer   \n2  Process Automation Solutions  Region flamande     Data Engineer   \n3                 Ossia Belgium             None     Data Engineer   \n4                Ordina Belgium  Region flamande     Data Engineer   \n5                       Exellys  Region flamande     Data Engineer   \n\n                           position_name remote_working_policy  \n0                          Data Engineer               Hybride  \n1                          Data Engineer               Hybride  \n2          MES & Data Historian Engineer              Sur site  \n3                          Data Engineer                  None  \n4             Senior (Big) Data Engineer              Sur site  \n5  Data Warehouse Engineer and BI Expert              Sur site  ",
      "text/html": "<div>\n<style scoped>\n    .dataframe tbody tr th:only-of-type {\n        vertical-align: middle;\n    }\n\n    .dataframe tbody tr th {\n        vertical-align: top;\n    }\n\n    .dataframe thead th {\n        text-align: right;\n    }\n</style>\n<table border=\"1\" class=\"dataframe\">\n  <thead>\n    <tr style=\"text-align: right;\">\n      <th></th>\n      <th>company_city</th>\n      <th>company_country</th>\n      <th>company_logo</th>\n      <th>company_name</th>\n      <th>company_region</th>\n      <th>position_category</th>\n      <th>position_name</th>\n      <th>remote_working_policy</th>\n    </tr>\n  </thead>\n  <tbody>\n    <tr>\n      <th>0</th>\n      <td>Gand</td>\n      <td>Belgique</td>\n      <td>https://media-exp1.licdn.com/dms/image/C4E0BAQ...</td>\n      <td>Bricsys</td>\n      <td>Region flamande</td>\n      <td>Data Engineer</td>\n      <td>Data Engineer</td>\n      <td>Hybride</td>\n    </tr>\n    <tr>\n      <th>1</th>\n      <td>Laakdal</td>\n      <td>Belgique</td>\n      <td>https://media-exp1.licdn.com/dms/image/C4E0BAQ...</td>\n      <td>Apollo Solutions</td>\n      <td>Region flamande</td>\n      <td>Data Engineer</td>\n      <td>Data Engineer</td>\n      <td>Hybride</td>\n    </tr>\n    <tr>\n      <th>2</th>\n      <td>Anvers</td>\n      <td>Belgique</td>\n      <td>https://media-exp1.licdn.com/dms/image/C4E0BAQ...</td>\n      <td>Process Automation Solutions</td>\n      <td>Region flamande</td>\n      <td>Data Engineer</td>\n      <td>MES &amp; Data Historian Engineer</td>\n      <td>Sur site</td>\n    </tr>\n    <tr>\n      <th>3</th>\n      <td>None</td>\n      <td>None</td>\n      <td>https://media-exp1.licdn.com/dms/image/C4D0BAQ...</td>\n      <td>Ossia Belgium</td>\n      <td>None</td>\n      <td>Data Engineer</td>\n      <td>Data Engineer</td>\n      <td>None</td>\n    </tr>\n    <tr>\n      <th>4</th>\n      <td>Malines</td>\n      <td>Belgique</td>\n      <td>https://media-exp1.licdn.com/dms/image/C4D0BAQ...</td>\n      <td>Ordina Belgium</td>\n      <td>Region flamande</td>\n      <td>Data Engineer</td>\n      <td>Senior (Big) Data Engineer</td>\n      <td>Sur site</td>\n    </tr>\n    <tr>\n      <th>5</th>\n      <td>Malines</td>\n      <td>Belgique</td>\n      <td>https://media-exp1.licdn.com/dms/image/C560BAQ...</td>\n      <td>Exellys</td>\n      <td>Region flamande</td>\n      <td>Data Engineer</td>\n      <td>Data Warehouse Engineer and BI Expert</td>\n      <td>Sur site</td>\n    </tr>\n  </tbody>\n</table>\n</div>"
     },
     "execution_count": 11,
     "metadata": {},
     "output_type": "execute_result"
    }
   ],
   "source": [
    "df"
   ],
   "metadata": {
    "collapsed": false,
    "pycharm": {
     "name": "#%%\n"
    }
   }
  },
  {
   "cell_type": "code",
   "execution_count": null,
   "outputs": [],
   "source": [],
   "metadata": {
    "collapsed": false,
    "pycharm": {
     "name": "#%%\n"
    }
   }
  }
 ],
 "metadata": {
  "kernelspec": {
   "display_name": "Python 3",
   "language": "python",
   "name": "python3"
  },
  "language_info": {
   "codemirror_mode": {
    "name": "ipython",
    "version": 2
   },
   "file_extension": ".py",
   "mimetype": "text/x-python",
   "name": "python",
   "nbconvert_exporter": "python",
   "pygments_lexer": "ipython2",
   "version": "2.7.6"
  }
 },
 "nbformat": 4,
 "nbformat_minor": 0
}