{
 "cells": [
  {
   "cell_type": "markdown",
   "source": [
    "## Imports"
   ],
   "metadata": {
    "collapsed": false,
    "pycharm": {
     "name": "#%% md\n"
    }
   }
  },
  {
   "cell_type": "code",
   "execution_count": 12,
   "metadata": {
    "collapsed": true,
    "pycharm": {
     "name": "#%%\n"
    }
   },
   "outputs": [],
   "source": [
    "from typing import Optional, Dict, Union\n",
    "from lxml.html import HtmlElement\n",
    "from pygrok import Grok\n",
    "import pandas as pd\n",
    "\n",
    "from mailxtract.html import LXMLExtractor, field, FieldContext\n",
    "from mailxtract.binary import SESMessage, BinaryExtractor"
   ]
  },
  {
   "cell_type": "code",
   "execution_count": 13,
   "outputs": [],
   "source": [
    "raw_email_file = \"./2vm2kl34l34tnlrqeklsfp0jnpfu6ondn2g303g1\""
   ],
   "metadata": {
    "collapsed": false,
    "pycharm": {
     "name": "#%%\n"
    }
   }
  },
  {
   "cell_type": "markdown",
   "source": [
    "## Extraction"
   ],
   "metadata": {
    "collapsed": false,
    "pycharm": {
     "name": "#%% md\n"
    }
   }
  },
  {
   "cell_type": "markdown",
   "source": [
    "### Open email"
   ],
   "metadata": {
    "collapsed": false,
    "pycharm": {
     "name": "#%% md\n"
    }
   }
  },
  {
   "cell_type": "code",
   "execution_count": 14,
   "outputs": [],
   "source": [
    "reader = SESMessage.from_file(raw_email_file)\n",
    "raw_email = BinaryExtractor(reader)"
   ],
   "metadata": {
    "collapsed": false,
    "pycharm": {
     "name": "#%%\n"
    }
   }
  },
  {
   "cell_type": "code",
   "execution_count": 17,
   "outputs": [
    {
     "name": "stdout",
     "output_type": "stream",
     "text": [
      "Return-Path: <forwarding-noreply@google.com>\n",
      "Received: from mail-yb1-f170.google.com (mail-yb1-f170.google.com [209.85.219.170])\n",
      " by inbound-smtp.eu-west-1.amazonaws.com with SMTP id 2vm2kl34l34tnlrqeklsfp0jnpfu6ondn2g303g1\n",
      " for linkedin-jobs-9s53lwpvs88lw2gv@datalake.joffreybvn.be;\n",
      " Sat, 09 Apr 2022 12:19:56 +0000 (UTC)\n",
      "X-SES-Spam-Verdict: PASS\n",
      "X-SES-Virus-Verdict: PASS\n",
      "Received-SPF: pass (spfCheck: domain of google.com designates 209.85.219.170 as permitted sender) client-ip=209.85.219.170; envelope-from=forwarding-noreply@google.com; helo=mail-yb1-f170.google.com;\n",
      "Authentication-Results: amazonses.com;\n",
      " spf=pass (spfCheck: domain of google.com designates 209.85.219.170 as permitted sender) client-ip=209.85.219.170; envelope-from=forwarding-noreply@google.com; helo=mail-yb1-f170.google.com;\n",
      " dkim=pass header.i=@google.com;\n",
      " dmarc=pass header.from=google.com;\n",
      "X-SES-RECEIPT: AEFBQUFBQUFBQUFIdVNvRzIvOWZHalZjZXlCc3FzaHdXdGxLL09UZFhGdW9VUXVSYmpyKzBjaXl0eWFINUd4QUhzTDRsMmZmZmFLdVFiKzZxT1g3ZEovdUFzSFAyZlZkVjVFbldLQ243WmtjckNrQTBNQ1pNZG5Qbkx4cHFieFhLMHFYQXJ1aFBCRzllU3o1OVFwUFhBZFk0QUxROGpCV2F6eXJjQlZMK1AybXpFQjFsQWJ6K01XQjVDYnIxVzlwWDdmc1l1RHFEdGFhRzhIcGhTMm02ZndkR1k4OTdXaTBLcS9CYkl1NUdPUnZZcTV0NllhQ2dZY1gycDVKN2NYU2kyQXZ6aU9zMUU2R3g5SDdTMWk4TWp4R0lVcHk1MUpwYjBNZlQwNWUwc3ZMd2FrOGNHdTN4T3c9PQ==\n",
      "X-SES-DKIM-SIGNATURE: a=rsa-sha256; q=dns/txt; b=zgB98CHbvycYtR1eiNpiBAZUqNFcgORVxl+5KiJO8MprdzzmrFjkkrEf2UjkArrq6vb5rDjOH5ipHOzam2sDAy+Tarzf+dCNH8ghmGHJtv3lC9/IdU6WIuR3l0T4ngrjcqmfxMS4gMUZ5zq3ANXNQj+GvH66lyKV7JRH6TkolIk=; c=relaxed/simple; s=ihchhvubuqgjsxyuhssfvqohv7z3u4hn; d=amazonses.com; t=1649506797; v=1; bh=gT9rqG+sfZ2uXBrPdeSDELKQf6egVd8CrYpdxbX0zeQ=; h=From:To:Cc:Bcc:Subject:Date:Message-ID:MIME-Version:Content-Type:X-SES-RECEIPT;\n",
      "Received: by mail-yb1-f170.google.com with SMTP id e71so4947025ybf.8\n",
      "        for <linkedin-jobs-9s53lwpvs88lw2gv@datalake.joffreybvn.be>; Sat, 09 Apr 2022 05:19:56 -0700 (PDT)\n",
      "DKIM-Signature: v=1; a=rsa-sha256; c=relaxed/relaxed;\n",
      "        d=google.com; s=20210112;\n",
      "        h=mime-version:date:message-id:subject:from:to\n",
      "         :content-transfer-encoding;\n",
      "        bh=gT9rqG+sfZ2uXBrPdeSDELKQf6egVd8CrYpdxbX0zeQ=;\n",
      "        b=gKN4qXB9IQ1hv77/lfPtVhUHfgTgYktTnHYByV9C0U23TRRUxHQ7Wx0rZJWJnKB4JR\n",
      "         mYvJYdXMHnIg0Ae4O/sMSSuF1km5O2BBMVRswMHyiBDSPHoNzbdEi8yTpF50WA5Gzvjf\n",
      "         hwD+1pjmnWuCWw3ESKROxyazZIUr+ENSlDao0TmHQGLPYVK755zSuH+Zj8b3ngPa50Vd\n",
      "         uSg7PrerRo1irXBRJF0QHNPeeTBe1Q4tqJWcxyNP+/q+6r6S96ioaAtN9mytuvFmYpRW\n",
      "         sXFj07HQ/fGsMvgHM5UXUI9LMMXD0DJrvP3YggF4gch4OGma6MImT/XK8rhLPxt2N4ua\n",
      "         w2Mw==\n",
      "X-Google-DKIM-Signature: v=1; a=rsa-sha256; c=relaxed/relaxed;\n",
      "        d=1e100.net; s=20210112;\n",
      "        h=x-gm-message-state:mime-version:date:message-id:subject:from:to\n",
      "         :content-transfer-encoding;\n",
      "        bh=gT9rqG+sfZ2uXBrPdeSDELKQf6egVd8CrYpdxbX0zeQ=;\n",
      "        b=uaDt+1eok0M2nhqyxFlueo1Dpp1uB7MDTtlEEVhdInria7SIozvALootne32LMR6Fi\n",
      "         t9uDUcJVHbrHXId8r+fsyiK2tcvKB5gAhqZaS+j1M2fffIs6R0aapo6Iy+qy5ylSQobI\n",
      "         3RWlE7+buIBBudd65fD6fEFmmeL6xSzOqSuGCDxMykyBqVjmyXnXpYLHDeGLr8XbFB4c\n",
      "         vmWzs/7Uz28ZaXneDYooOT5BQy/GNAZCg5wtr5rBSrvq0YrbVhR3gFcTiQSAj9Ch0oqd\n",
      "         8dQ5TLAEU5qd8HRFKRNwRAI0YxiE53uYkKRVVhZiVfTqvIKdGI0hjryjPOOa5qilhu7C\n",
      "         IgxA==\n",
      "X-Gm-Message-State: AOAM532yui9Lj2OkLX+p3fGYZ40HHJMUTgYb8QaKRVZVfuB4u4YZ4j4l\n",
      "\t6SAHbduBBBs6Qcw/eh9OPNf0UDnmN5o6g4t4OmFM+FtEvPJQFDJSUIw=\n",
      "X-Google-Smtp-Source: ABdhPJwvmEjDwRzeUE+E5Wz5xZ6mh1L5JR0S0Ec18mefU0R0k8r1rsbMw52fvSVCHyTGIJZEHdczfbJ827T8V9bk+OMW4cks+P5XQQ==\n",
      "MIME-Version: 1.0\n",
      "X-Received: by 2002:a25:1f04:0:b0:625:3660:a64a with SMTP id\n",
      " f4-20020a251f04000000b006253660a64amr16177747ybf.615.1649506795457; Sat, 09\n",
      " Apr 2022 05:19:55 -0700 (PDT)\n",
      "X-Google-Address-Confirmation: IfzOl3loW3_GpvRHqB4PbJYXLIw\n",
      "Date: Sat, 9 Apr 2022 14:19:55 +0200\n",
      "Message-ID: <CABY-6CcwVpBR_LUoKBffqtUkaLg-QEaeoe6uDv=FNtcHShKfWg@mail.gmail.com>\n",
      "Subject: =?UTF-8?Q?=28=23271675335=29_Confirmation_du_transfert_par_Gmail_=2D_R?=\n",
      "\t=?UTF-8?Q?=C3=A9ception_du_message_de_joffreybvn=40gmail=2Ecom?=\n",
      "From: =?UTF-8?B?TCfDqXF1aXBlIEdtYWls?= <forwarding-noreply@google.com>\n",
      "To: linkedin-jobs-9s53lwpvs88lw2gv@datalake.joffreybvn.be\n",
      "Content-Type: text/plain; charset=\"UTF-8\"\n",
      "Content-Transfer-Encoding: quoted-printable\n",
      "\n",
      "joffreybvn@gmail.com a demand=C3=A9 =C3=A0 transf=C3=A9rer=C2=B7automatique=\n",
      "ment ses\n",
      "messages =C3=A0=C2=B7votre adresse e-mail\n",
      "linkedin-jobs-9s53lwpvs88lw2gv@datalake.joffreybvn.be.\n",
      "Code de confirmation=C2=A0: 271675335\n",
      "\n",
      "Pour autoriser joffreybvn@gmail.com =C3=A0 transf=C3=A9rer automatiquement =\n",
      "ses\n",
      "messages =C3=A0 votre adresse e-mail,\n",
      "cliquez sur le lien ci-dessous afin d'accepter la demande=C2=A0:\n",
      "\n",
      "https://mail-settings.google.com/mail/vf-%5BANGjdJ-wYmpOlwtOtDMXLUdJvndBAuZ=\n",
      "CE_xMMCTDO7HtPB6k9DpPzej3PShQMV0LiSB-uAaTaoNcxgEXsTq-XakMBgH4pVPtm2WAFK2Vxe=\n",
      "d6IqoNc53y2hFMOtKphNQ%5D-Ke1uJylCOsOJklZWnP_9WfviBRM\n",
      "\n",
      "Si le lien ne semble pas fonctionner, copiez-le et collez-le dans une\n",
      "nouvelle fen=C3=AAtre de navigateur. Si vous ne parvenez pas =C3=A0 acc=C3=\n",
      "=A9der =C3=A0 la\n",
      "page de destination du lien, vous pouvez envoyer le code de\n",
      "confirmation\n",
      "271675335 =C3=A0 joffreybvn@gmail.com.\n",
      "\n",
      "Merci d'utiliser Gmail=C2=A0!\n",
      "\n",
      "Cordialement,\n",
      "\n",
      "L'=C3=A9quipe Gmail\n",
      "\n",
      "Si vous n'acceptez pas cette demande, aucune autre action de votre\n",
      "part n'est n=C3=A9cessaire.\n",
      "joffreybvn@gmail.com ne pourra pas transf=C3=A9rer de messages\n",
      "automatiquement =C3=A0 votre adresse e-mail\n",
      "tant que vous n'aurez pas accept=C3=A9 sa demande en cliquant sur le lien\n",
      "ci-dessus. Si vous avez cliqu=C3=A9 sur le lien par inadvertance, mais que\n",
      "vous ne souhaitiez pas autoriser joffreybvn@gmail.com =C3=A0 transf=C3=A9re=\n",
      "r\n",
      "automatiquement des messages =C3=A0 votre adresse, cliquez sur le lien\n",
      "ci-apr=C3=A8s pour annuler la validation=C2=A0:\n",
      "https://mail-settings.google.com/mail/uf-%5BANGjdJ-ias_OFKiJHSi_e6Yz9yteive=\n",
      "BoB9aM4Uo0FrRb8laE8cSEGeKpF_HqYMIL4NOJxxFJ_nioC1ABdudAojD9GCQ85uX2OpQr1Wb61=\n",
      "eGuJ8VuP1YsAjWvRDb-AY%5D-Ke1uJylCOsOJklZWnP_9WfviBRM\n",
      "\n",
      "Pour en savoir plus sur les raisons pour lesquelles vous avez re=C3=A7u ce\n",
      "message, consultez la page suivante=C2=A0:\n",
      "http://support.google.com/mail/bin/answer.py?answer=3D184973.\n",
      "\n",
      "Ne r=C3=A9pondez pas =C3=A0 ce message. Si vous souhaitez contacter l'=C3=\n",
      "=A9quipe\n",
      "Google.com, connectez-vous =C3=A0 votre compte et cliquez sur \"Aide\" en\n",
      "haut d'une page. Cliquez ensuite sur \"Contactez-nous\" au bas du Centre\n",
      "d'aide.\n",
      "\n"
     ]
    }
   ],
   "source": [
    "print(raw_email.message)"
   ],
   "metadata": {
    "collapsed": false,
    "pycharm": {
     "name": "#%%\n"
    }
   }
  },
  {
   "cell_type": "markdown",
   "source": [
    "### Read headers"
   ],
   "metadata": {
    "collapsed": false,
    "pycharm": {
     "name": "#%% md\n"
    }
   }
  },
  {
   "cell_type": "code",
   "execution_count": 15,
   "outputs": [
    {
     "ename": "TypeError",
     "evalue": "argument should be bytes, buffer or ASCII string, not 'NoneType'",
     "output_type": "error",
     "traceback": [
      "\u001B[0;31m---------------------------------------------------------------------------\u001B[0m",
      "\u001B[0;31mTypeError\u001B[0m                                 Traceback (most recent call last)",
      "Input \u001B[0;32mIn [15]\u001B[0m, in \u001B[0;36m<cell line: 2>\u001B[0;34m()\u001B[0m\n\u001B[1;32m      1\u001B[0m metadata \u001B[38;5;241m=\u001B[39m raw_email\u001B[38;5;241m.\u001B[39mget_header()\n\u001B[0;32m----> 2\u001B[0m html_email \u001B[38;5;241m=\u001B[39m \u001B[43mraw_email\u001B[49m\u001B[38;5;241;43m.\u001B[39;49m\u001B[43mget_html\u001B[49m\u001B[43m(\u001B[49m\u001B[43m)\u001B[49m\n",
      "File \u001B[0;32m~/Documents/personal/email-reader/mailxtract/binary/extractor.py:47\u001B[0m, in \u001B[0;36mBinaryExtractor.get_html\u001B[0;34m(self)\u001B[0m\n\u001B[1;32m     45\u001B[0m \u001B[38;5;124;03m\"\"\"Return the HTML content of the email.\"\"\"\u001B[39;00m\n\u001B[1;32m     46\u001B[0m raw_html \u001B[38;5;241m=\u001B[39m \u001B[38;5;28mself\u001B[39m\u001B[38;5;241m.\u001B[39m_extract(content_type\u001B[38;5;241m=\u001B[39m\u001B[38;5;124m'\u001B[39m\u001B[38;5;124mtext/html\u001B[39m\u001B[38;5;124m'\u001B[39m)\n\u001B[0;32m---> 47\u001B[0m \u001B[38;5;28;01mreturn\u001B[39;00m \u001B[38;5;28;43mself\u001B[39;49m\u001B[38;5;241;43m.\u001B[39;49m\u001B[43mdecode_html\u001B[49m\u001B[43m(\u001B[49m\u001B[43mraw_html\u001B[49m\u001B[43m)\u001B[49m\n",
      "File \u001B[0;32m~/Documents/personal/email-reader/mailxtract/binary/extractor.py:32\u001B[0m, in \u001B[0;36mBinaryExtractor.decode_html\u001B[0;34m(html_message)\u001B[0m\n\u001B[1;32m     29\u001B[0m \u001B[38;5;124;03m\"\"\"Decode an HTML email into its usable form for a web browser.\"\"\"\u001B[39;00m\n\u001B[1;32m     31\u001B[0m \u001B[38;5;66;03m# Decode quoted-printable\u001B[39;00m\n\u001B[0;32m---> 32\u001B[0m utf8_string: \u001B[38;5;28mstr\u001B[39m \u001B[38;5;241m=\u001B[39m \u001B[43mquopri\u001B[49m\u001B[38;5;241;43m.\u001B[39;49m\u001B[43mdecodestring\u001B[49m\u001B[43m(\u001B[49m\u001B[43mhtml_message\u001B[49m\u001B[43m)\u001B[49m\u001B[38;5;241m.\u001B[39mdecode(\u001B[38;5;124m\"\u001B[39m\u001B[38;5;124mutf-8\u001B[39m\u001B[38;5;124m\"\u001B[39m)\n\u001B[1;32m     34\u001B[0m \u001B[38;5;66;03m# Replace unicode by their utf-8 counterpart\u001B[39;00m\n\u001B[1;32m     35\u001B[0m uni_decoded: \u001B[38;5;28mstr\u001B[39m \u001B[38;5;241m=\u001B[39m unicodedata\u001B[38;5;241m.\u001B[39mnormalize(\u001B[38;5;124m\"\u001B[39m\u001B[38;5;124mNFKD\u001B[39m\u001B[38;5;124m\"\u001B[39m, utf8_string)\n",
      "File \u001B[0;32m~/.pyenv/versions/3.10.1/lib/python3.10/quopri.py:162\u001B[0m, in \u001B[0;36mdecodestring\u001B[0;34m(s, header)\u001B[0m\n\u001B[1;32m    160\u001B[0m \u001B[38;5;28;01mdef\u001B[39;00m \u001B[38;5;21mdecodestring\u001B[39m(s, header\u001B[38;5;241m=\u001B[39m\u001B[38;5;28;01mFalse\u001B[39;00m):\n\u001B[1;32m    161\u001B[0m     \u001B[38;5;28;01mif\u001B[39;00m a2b_qp \u001B[38;5;129;01mis\u001B[39;00m \u001B[38;5;129;01mnot\u001B[39;00m \u001B[38;5;28;01mNone\u001B[39;00m:\n\u001B[0;32m--> 162\u001B[0m         \u001B[38;5;28;01mreturn\u001B[39;00m \u001B[43ma2b_qp\u001B[49m\u001B[43m(\u001B[49m\u001B[43ms\u001B[49m\u001B[43m,\u001B[49m\u001B[43m \u001B[49m\u001B[43mheader\u001B[49m\u001B[38;5;241;43m=\u001B[39;49m\u001B[43mheader\u001B[49m\u001B[43m)\u001B[49m\n\u001B[1;32m    163\u001B[0m     \u001B[38;5;28;01mfrom\u001B[39;00m \u001B[38;5;21;01mio\u001B[39;00m \u001B[38;5;28;01mimport\u001B[39;00m BytesIO\n\u001B[1;32m    164\u001B[0m     infp \u001B[38;5;241m=\u001B[39m BytesIO(s)\n",
      "\u001B[0;31mTypeError\u001B[0m: argument should be bytes, buffer or ASCII string, not 'NoneType'"
     ]
    }
   ],
   "source": [
    "metadata = raw_email.get_header()\n",
    "html_email = raw_email.get_html()"
   ],
   "metadata": {
    "collapsed": false,
    "pycharm": {
     "name": "#%%\n"
    }
   }
  },
  {
   "cell_type": "code",
   "execution_count": null,
   "outputs": [],
   "source": [
    "with open(\"Output.html\", \"w\") as text_file:\n",
    "    text_file.write(html_email)"
   ],
   "metadata": {
    "collapsed": false,
    "pycharm": {
     "name": "#%%\n"
    }
   }
  },
  {
   "cell_type": "markdown",
   "source": [
    "### Get email data"
   ],
   "metadata": {
    "collapsed": false,
    "pycharm": {
     "name": "#%% md\n"
    }
   }
  },
  {
   "cell_type": "code",
   "execution_count": 7,
   "outputs": [],
   "source": [
    "class Job(LXMLExtractor):\n",
    "\n",
    "    def __init__(self, html_element: Union[str, HtmlElement], position_category: str):\n",
    "        super().__init__(html_element)\n",
    "        self.data['position_category'] = position_category\n",
    "\n",
    "    def extract_description(self) -> dict:\n",
    "\n",
    "        # Setup default values\n",
    "        fields = ['company_city', 'company_region', 'company_country', 'remote_working_policy']\n",
    "        default_values: Dict[str, None] = {key:None for key in fields}\n",
    "\n",
    "        # Extract the description minus the company name\n",
    "        description: str = self.get_xpath(xpath='.//p/text()', first=True)\n",
    "        description = description.replace(self.company_name(), '')\n",
    "\n",
    "        # Parse the city, region, country and remote working policy\n",
    "        pattern = '%{DATA:company_city}, %{DATA:company_region}, %{WORD:company_country} \\(%{DATA:remote_working_policy}\\)'\n",
    "        data: dict = Grok(pattern).match(description)\n",
    "\n",
    "        return data or default_values\n",
    "\n",
    "    @field()\n",
    "    def position_category(self) -> str:\n",
    "        pass\n",
    "\n",
    "    @field(\n",
    "        missing_func='get_xpath',\n",
    "        args={'xpath': './/td[@style=\"padding-bottom:4px\"]/a/text()', 'first': True}\n",
    "    )\n",
    "    def position_name(self) -> Optional[str]:\n",
    "        pass\n",
    "\n",
    "    @field(\n",
    "        missing_func='get_xpath',\n",
    "        args={'xpath': './/img[@width=\"48\"]/@alt', 'first': True}\n",
    "    )\n",
    "    def company_name(self) -> Optional[str]:\n",
    "        pass\n",
    "\n",
    "    @field(\n",
    "        missing_func='get_xpath',\n",
    "        args={'xpath': './/img[@width=\"48\"]/@src', 'first': True}\n",
    "    )\n",
    "    def company_logo(self) -> Optional[str]:\n",
    "        pass\n",
    "\n",
    "    @field(missing_func='extract_description')\n",
    "    def company_city(self) -> Optional[str]:\n",
    "        pass\n",
    "\n",
    "    @field(missing_func='extract_description')\n",
    "    def company_region(self) -> Optional[str]:\n",
    "        pass\n",
    "\n",
    "    @field(missing_func='extract_description')\n",
    "    def company_country(self) -> Optional[str]:\n",
    "        pass\n",
    "\n",
    "    @field(missing_func='extract_description')\n",
    "    def remote_working_policy(self) -> Optional[str]:\n",
    "        pass"
   ],
   "metadata": {
    "collapsed": false,
    "pycharm": {
     "name": "#%%\n"
    }
   }
  },
  {
   "cell_type": "code",
   "execution_count": 8,
   "outputs": [],
   "source": [
    "class Email(LXMLExtractor):\n",
    "\n",
    "    def __init__(self, html_element: Union[str, HtmlElement]):\n",
    "        super().__init__(html_element)\n",
    "\n",
    "    @field(\n",
    "        missing_func='get_xpath',\n",
    "        args={'xpath': '//h2/a/span/text()', 'first': True}\n",
    "    )\n",
    "    def position(self) -> str:\n",
    "        pass\n",
    "\n",
    "\n",
    "    @field(\n",
    "        missing_func='get_xpath',\n",
    "        args={'xpath': '//table[@style=\"padding:10px 24px\"]'}\n",
    "    )\n",
    "    def jobs(self, context: FieldContext):\n",
    "        for job in self.data[context.name]:\n",
    "            yield Job(\n",
    "                html_element=job,\n",
    "                position_category=self.position()\n",
    "            ).as_dict()"
   ],
   "metadata": {
    "collapsed": false,
    "pycharm": {
     "name": "#%%\n"
    }
   }
  },
  {
   "cell_type": "code",
   "execution_count": 9,
   "outputs": [],
   "source": [
    "email = Email(html_email)"
   ],
   "metadata": {
    "collapsed": false,
    "pycharm": {
     "name": "#%%\n"
    }
   }
  },
  {
   "cell_type": "code",
   "execution_count": 10,
   "outputs": [],
   "source": [
    "df = pd.DataFrame(email.jobs())"
   ],
   "metadata": {
    "collapsed": false,
    "pycharm": {
     "name": "#%%\n"
    }
   }
  },
  {
   "cell_type": "code",
   "execution_count": 11,
   "outputs": [
    {
     "data": {
      "text/plain": "  company_city company_country  \\\n0         Gand        Belgique   \n1      Laakdal        Belgique   \n2       Anvers        Belgique   \n3         None            None   \n4      Malines        Belgique   \n5      Malines        Belgique   \n\n                                        company_logo  \\\n0  https://media-exp1.licdn.com/dms/image/C4E0BAQ...   \n1  https://media-exp1.licdn.com/dms/image/C4E0BAQ...   \n2  https://media-exp1.licdn.com/dms/image/C4E0BAQ...   \n3  https://media-exp1.licdn.com/dms/image/C4D0BAQ...   \n4  https://media-exp1.licdn.com/dms/image/C4D0BAQ...   \n5  https://media-exp1.licdn.com/dms/image/C560BAQ...   \n\n                   company_name   company_region position_category  \\\n0                       Bricsys  Region flamande     Data Engineer   \n1              Apollo Solutions  Region flamande     Data Engineer   \n2  Process Automation Solutions  Region flamande     Data Engineer   \n3                 Ossia Belgium             None     Data Engineer   \n4                Ordina Belgium  Region flamande     Data Engineer   \n5                       Exellys  Region flamande     Data Engineer   \n\n                           position_name remote_working_policy  \n0                          Data Engineer               Hybride  \n1                          Data Engineer               Hybride  \n2          MES & Data Historian Engineer              Sur site  \n3                          Data Engineer                  None  \n4             Senior (Big) Data Engineer              Sur site  \n5  Data Warehouse Engineer and BI Expert              Sur site  ",
      "text/html": "<div>\n<style scoped>\n    .dataframe tbody tr th:only-of-type {\n        vertical-align: middle;\n    }\n\n    .dataframe tbody tr th {\n        vertical-align: top;\n    }\n\n    .dataframe thead th {\n        text-align: right;\n    }\n</style>\n<table border=\"1\" class=\"dataframe\">\n  <thead>\n    <tr style=\"text-align: right;\">\n      <th></th>\n      <th>company_city</th>\n      <th>company_country</th>\n      <th>company_logo</th>\n      <th>company_name</th>\n      <th>company_region</th>\n      <th>position_category</th>\n      <th>position_name</th>\n      <th>remote_working_policy</th>\n    </tr>\n  </thead>\n  <tbody>\n    <tr>\n      <th>0</th>\n      <td>Gand</td>\n      <td>Belgique</td>\n      <td>https://media-exp1.licdn.com/dms/image/C4E0BAQ...</td>\n      <td>Bricsys</td>\n      <td>Region flamande</td>\n      <td>Data Engineer</td>\n      <td>Data Engineer</td>\n      <td>Hybride</td>\n    </tr>\n    <tr>\n      <th>1</th>\n      <td>Laakdal</td>\n      <td>Belgique</td>\n      <td>https://media-exp1.licdn.com/dms/image/C4E0BAQ...</td>\n      <td>Apollo Solutions</td>\n      <td>Region flamande</td>\n      <td>Data Engineer</td>\n      <td>Data Engineer</td>\n      <td>Hybride</td>\n    </tr>\n    <tr>\n      <th>2</th>\n      <td>Anvers</td>\n      <td>Belgique</td>\n      <td>https://media-exp1.licdn.com/dms/image/C4E0BAQ...</td>\n      <td>Process Automation Solutions</td>\n      <td>Region flamande</td>\n      <td>Data Engineer</td>\n      <td>MES &amp; Data Historian Engineer</td>\n      <td>Sur site</td>\n    </tr>\n    <tr>\n      <th>3</th>\n      <td>None</td>\n      <td>None</td>\n      <td>https://media-exp1.licdn.com/dms/image/C4D0BAQ...</td>\n      <td>Ossia Belgium</td>\n      <td>None</td>\n      <td>Data Engineer</td>\n      <td>Data Engineer</td>\n      <td>None</td>\n    </tr>\n    <tr>\n      <th>4</th>\n      <td>Malines</td>\n      <td>Belgique</td>\n      <td>https://media-exp1.licdn.com/dms/image/C4D0BAQ...</td>\n      <td>Ordina Belgium</td>\n      <td>Region flamande</td>\n      <td>Data Engineer</td>\n      <td>Senior (Big) Data Engineer</td>\n      <td>Sur site</td>\n    </tr>\n    <tr>\n      <th>5</th>\n      <td>Malines</td>\n      <td>Belgique</td>\n      <td>https://media-exp1.licdn.com/dms/image/C560BAQ...</td>\n      <td>Exellys</td>\n      <td>Region flamande</td>\n      <td>Data Engineer</td>\n      <td>Data Warehouse Engineer and BI Expert</td>\n      <td>Sur site</td>\n    </tr>\n  </tbody>\n</table>\n</div>"
     },
     "execution_count": 11,
     "metadata": {},
     "output_type": "execute_result"
    }
   ],
   "source": [
    "df"
   ],
   "metadata": {
    "collapsed": false,
    "pycharm": {
     "name": "#%%\n"
    }
   }
  },
  {
   "cell_type": "code",
   "execution_count": null,
   "outputs": [],
   "source": [],
   "metadata": {
    "collapsed": false,
    "pycharm": {
     "name": "#%%\n"
    }
   }
  }
 ],
 "metadata": {
  "kernelspec": {
   "display_name": "Python 3",
   "language": "python",
   "name": "python3"
  },
  "language_info": {
   "codemirror_mode": {
    "name": "ipython",
    "version": 2
   },
   "file_extension": ".py",
   "mimetype": "text/x-python",
   "name": "python",
   "nbconvert_exporter": "python",
   "pygments_lexer": "ipython2",
   "version": "2.7.6"
  }
 },
 "nbformat": 4,
 "nbformat_minor": 0
}